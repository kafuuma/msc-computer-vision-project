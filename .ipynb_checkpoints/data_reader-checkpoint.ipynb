{
 "cells": [
  {
   "cell_type": "markdown",
   "metadata": {
    "colab_type": "text",
    "id": "xfAiy9a8bXJD"
   },
   "source": [
    "<h1> Utility functions for data input</h1>"
   ]
  },
  {
   "cell_type": "markdown",
   "metadata": {
    "colab_type": "text",
    "id": "yIEbltPabXJF"
   },
   "source": [
    "<h3>  Import Statements </h3>\t\n"
   ]
  },
  {
   "cell_type": "code",
   "execution_count": 3,
   "metadata": {
    "colab": {
     "base_uri": "https://localhost:8080/",
     "height": 34
    },
    "colab_type": "code",
    "executionInfo": {
     "elapsed": 812,
     "status": "ok",
     "timestamp": 1574645571577,
     "user": {
      "displayName": "Henrik Høiness",
      "photoUrl": "https://lh3.googleusercontent.com/a-/AAuE7mAU_UzKC8CKFaMzdXHG3v2miAUiqbdhU_utY4l9=s64",
      "userId": "05134007726078583058"
     },
     "user_tz": 480
    },
    "id": "dNdLpB2JbXJG",
    "outputId": "cb15de07-7aa4-44c9-ebd5-80dd703ea428"
   },
   "outputs": [],
   "source": [
    "import numpy as np\n",
    "import matplotlib.pyplot as plt\n",
    "import pandas as pd\n",
    "import matplotlib\n",
    "import skimage\n",
    "from skimage import data\n",
    "from skimage import io\n",
    "import os\n",
    "import cv2\n",
    "import warnings\n",
    "warnings.simplefilter(action='ignore', category=UserWarning)"
   ]
  },
  {
   "cell_type": "markdown",
   "metadata": {
    "colab_type": "text",
    "id": "hKmtncj_bXJM"
   },
   "source": [
    "<h4> Using the code for reference, take the given folder and create a dataframe with the picture object, and the encoding as listed below. </h4>\t\n",
    "\n",
    "| *Label* | 0         | 1    | 2     | 3     | 4    | 5   | 6       | 7       | 8    | 9       | 10       | 11           | 12       | 13    | 14      | 15        | 16         | 17          | 18      | 19    |\n",
    "|-------|-----------|------|-------|-------|------|-----|---------|---------|------|---------|----------|--------------|----------|-------|---------|-----------|------------|-------------|---------|-------|\n",
    "| *Class* | Airplanes | Bear | Blimp | Comet | Crab | Dog | Dolphin | Giraffe | Goat | Gorilla | Kangaroo | Killer-Whale | Leopards | Llama | Penguin | Porcupine | Teddy-bear | Triceratops | Unicorn | Zebra |"
   ]
  },
  {
   "cell_type": "code",
   "execution_count": 4,
   "metadata": {
    "colab": {},
    "colab_type": "code",
    "id": "nLkdS3KgbXJM"
   },
   "outputs": [],
   "source": [
    "def read_training_data(subset=False):\n",
    "    \"\"\"\n",
    "    Reading the training and validation data, assuming the folder is located in './20_categories_training'.\n",
    "    \"\"\"\n",
    "    data_path = '20_categories_training'\n",
    "    folders = sorted(os.listdir(data_path))\n",
    "    images, labels = [], []\n",
    "    label_dict = {}\n",
    "\n",
    "    if \".DS_Store\" in folders:\n",
    "        folders.remove(\".DS_Store\")\n",
    "        \n",
    "    print(\"[INFO] Reading training images\")\n",
    "    for label_no in range(len(folders)):\n",
    "        folder = folders[label_no]\n",
    "        label_dict[label_no] = folder\n",
    "        oslistdir = sorted(os.listdir(f\"{data_path}/{folder}\"))\n",
    "        oslistdir = oslistdir[:10] if subset else oslistdir\n",
    "        \n",
    "        for image_name in oslistdir:\n",
    "            if image_name == \".DS_Store\":\n",
    "                continue\n",
    "\n",
    "            image_path = f\"{data_path}/{folders[label_no]}/{image_name}\"\n",
    "            image = io.imread(image_path)\n",
    "\n",
    "            # If image is grayscale\n",
    "            if len(image.shape) == 2:\n",
    "                image = cv2.cvtColor(image, cv2.COLOR_GRAY2RGB)\n",
    "                \n",
    "            images.append(image)\n",
    "            labels.append(label_no)\n",
    "        \n",
    "        print(f\"\\t [{((label_no + 1)/len(folders)) * 100:.1f} %] Fetching label '{folder}'           \", end='\\r')\n",
    "            \n",
    "    print()\n",
    "    df = pd.DataFrame()\n",
    "    df['Image_Id'] = [i for i in range(len(images))]\n",
    "    df['Image'] = images\n",
    "    df['Label'] = labels\n",
    "    return df, label_dict\n",
    "\n",
    "def read_testing_data():\n",
    "    \"\"\"\n",
    "    Reading the testing data, assuming the folder is located in './20_validation'.\n",
    "    \"\"\"\n",
    "    data_path = '20_validation'\n",
    "    images = []\n",
    "    \n",
    "    image_names = sorted(os.listdir(data_path), key=lambda x: int(x.split(\"(\")[1].split(\")\")[0]))\n",
    "    if \".DS_Store\" in image_names:\n",
    "        image_names.remove(\".DS_Store\")\n",
    "\n",
    "    print(\"[INFO] Reading testing images\")\n",
    "    for i, image_name in enumerate(image_names):\n",
    "\n",
    "        image_path = f\"{data_path}/{image_name}\"\n",
    "        image = io.imread(image_path)\n",
    "        \n",
    "        # If image is grayscale\n",
    "        if len(image.shape) == 2:\n",
    "            image = cv2.cvtColor(image, cv2.COLOR_GRAY2RGB)\n",
    "                \n",
    "        images.append(image)\n",
    "        print(f\"\\t [{((i + 1)/len(image_names)) * 100:.1f} %] Fetching {i + 1} images'\", end='\\r')\n",
    "    \n",
    "    print()\n",
    "    df = pd.DataFrame()\n",
    "    df['Image'] = images\n",
    "    df['Image_Id'] = [i for i in range(len(images))]\n",
    "    return df"
   ]
  }
 ],
 "metadata": {
  "accelerator": "GPU",
  "colab": {
   "collapsed_sections": [],
   "name": "GradProject_NB1.ipynb",
   "provenance": []
  },
  "kernelspec": {
   "display_name": "Python 3",
   "language": "python",
   "name": "python3"
  },
  "language_info": {
   "codemirror_mode": {
    "name": "ipython",
    "version": 3
   },
   "file_extension": ".py",
   "mimetype": "text/x-python",
   "name": "python",
   "nbconvert_exporter": "python",
   "pygments_lexer": "ipython3",
   "version": "3.7.2"
  }
 },
 "nbformat": 4,
 "nbformat_minor": 1
}
